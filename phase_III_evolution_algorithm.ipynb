{
 "cells": [
  {
   "cell_type": "code",
   "execution_count": 6,
   "metadata": {
    "collapsed": true
   },
   "outputs": [],
   "source": [
    "import random\n",
    "from deap import creator, base, tools, algorithms\n",
    "import numpy as np\n",
    "import keras"
   ]
  },
  {
   "cell_type": "code",
   "execution_count": 7,
   "outputs": [],
   "source": [
    "from tensorflow.python.keras.wrappers.scikit_learn import KerasRegressor\n",
    "def create_individual(type):\n",
    "    if type == 'ASSETS':\n",
    "        random_list = np.random.normal(0, 3, 26)\n",
    "    elif type == 'EQ':\n",
    "        random_list = np.random.normal(0, 3, 29)\n",
    "    else:\n",
    "        raise TypeError\n",
    "\n",
    "    return list(random_list/sum(random_list))"
   ],
   "metadata": {
    "collapsed": false,
    "pycharm": {
     "name": "#%%\n"
    }
   }
  },
  {
   "cell_type": "code",
   "execution_count": 68,
   "outputs": [],
   "source": [
    "NN_model = keras.models.load_model('./saved_model.h5')\n",
    "\n",
    "class IndividualStructure(object):\n",
    "    ASSETS_LEN = 26\n",
    "    EQ_AND_LIAB_LEN = 29\n",
    "\n",
    "    def __init__(self, assets, eq_and_liab):\n",
    "        self.structure = assets() + eq_and_liab()\n",
    "        self.predecessors = [assets() + eq_and_liab()]\n",
    "        self.historic_fitness = []\n",
    "        self.fitness = IndividualStructure.magic_func(self.predecessors[-1] + self.structure)\n",
    "\n",
    "    def compete_with(self, potential_successor_structure):\n",
    "        return IndividualStructure.magic_func(potential_successor_structure + self.structure)\n",
    "\n",
    "    def set_the_winner(self, desc_struct, desc_fitness):\n",
    "        if desc_fitness > 0.8 * self.fitness and desc_fitness > 0:\n",
    "            self.predecessors.append(toolbox.clone(self.structure))\n",
    "            self.structure = desc_struct\n",
    "            self.historic_fitness.append(self.fitness)\n",
    "            self.fitness = desc_fitness\n",
    "\n",
    "    @staticmethod\n",
    "    def create_descendant(struct_a, struct_b):\n",
    "        descendant = [value[random.randint(0,1)] for value in zip(struct_a, struct_b)]\n",
    "        assets_sum = sum(descendant[:IndividualStructure.ASSETS_LEN])\n",
    "        eq_and_liab_sum = sum(descendant[IndividualStructure.ASSETS_LEN:])\n",
    "        descendant[:IndividualStructure.ASSETS_LEN] = list(map(lambda x: x/assets_sum, descendant[:IndividualStructure.ASSETS_LEN]))\n",
    "        descendant[IndividualStructure.ASSETS_LEN:] = list(map(lambda x: x/eq_and_liab_sum, descendant[IndividualStructure.ASSETS_LEN:]))\n",
    "\n",
    "        return descendant\n",
    "\n",
    "    @staticmethod\n",
    "    def magic_func(data):\n",
    "        return NN_model.predict([data])[0][0]"
   ],
   "metadata": {
    "collapsed": false,
    "pycharm": {
     "name": "#%%\n"
    }
   }
  },
  {
   "cell_type": "code",
   "execution_count": null,
   "outputs": [],
   "source": [],
   "metadata": {
    "collapsed": false,
    "pycharm": {
     "name": "#%%\n"
    }
   }
  },
  {
   "cell_type": "code",
   "execution_count": 69,
   "outputs": [
    {
     "name": "stdout",
     "output_type": "stream",
     "text": [
      "Generation: 0\n",
      "Generation: 1\n",
      "Generation: 2\n",
      "Generation: 3\n",
      "Generation: 4\n",
      "Generation: 5\n",
      "Generation: 6\n",
      "Generation: 7\n",
      "Generation: 8\n",
      "Generation: 9\n",
      "Generation: 10\n",
      "Generation: 11\n",
      "Generation: 12\n",
      "Generation: 13\n",
      "Generation: 14\n",
      "Generation: 15\n",
      "Generation: 16\n",
      "Generation: 17\n",
      "Generation: 18\n",
      "Generation: 19\n",
      "Generation: 20\n",
      "Generation: 21\n",
      "Generation: 22\n",
      "Generation: 23\n",
      "Generation: 24\n",
      "Generation: 25\n",
      "Generation: 26\n",
      "Generation: 27\n",
      "Generation: 28\n",
      "Generation: 29\n"
     ]
    }
   ],
   "source": [
    "# def main():\n",
    "toolbox = base.Toolbox()\n",
    "POPULATION_SIZE = 50\n",
    "GENERATIONS = 30\n",
    "DESC_PER_PARENTS = 2\n",
    "toolbox.register(\"individual\", IndividualStructure, lambda: create_individual('ASSETS'), lambda: create_individual('EQ'))\n",
    "toolbox.register(\"population\", tools.initRepeat, list, toolbox.individual, n=POPULATION_SIZE)\n",
    "\n",
    "pop = toolbox.population()\n",
    "\n",
    "for gen in range(GENERATIONS):\n",
    "    print(f'Generation: {gen}')\n",
    "    randomized_indexes = random.sample(list(range(len(pop))), k=len(pop))\n",
    "    paired_indexes = list(zip(randomized_indexes[::2], randomized_indexes[1::2]))\n",
    "    parents_pairs = map(lambda x: (pop[x[0]], pop[x[1]]), paired_indexes)\n",
    "    for parent_a, parent_b in parents_pairs:\n",
    "        descendants = [\n",
    "            IndividualStructure.create_descendant(parent_a.structure, parent_b.structure)\n",
    "            for _ in range(DESC_PER_PARENTS)\n",
    "        ]\n",
    "        parent_a.set_the_winner(descendants[0], parent_a.compete_with(descendants[0]))\n",
    "        parent_b.set_the_winner(descendants[1], parent_b.compete_with(descendants[1]))"
   ],
   "metadata": {
    "collapsed": false,
    "pycharm": {
     "name": "#%%\n"
    }
   }
  },
  {
   "cell_type": "code",
   "execution_count": 70,
   "outputs": [],
   "source": [
    "max_plus_sum = sorted(pop, key=lambda x: sum(x.historic_fitness) + x.fitness, reverse=True)"
   ],
   "metadata": {
    "collapsed": false,
    "pycharm": {
     "name": "#%%\n"
    }
   }
  },
  {
   "cell_type": "code",
   "execution_count": 71,
   "outputs": [],
   "source": [
    "longest_growth = sorted(pop, key=lambda x: len(x.historic_fitness), reverse=True)"
   ],
   "metadata": {
    "collapsed": false,
    "pycharm": {
     "name": "#%%\n"
    }
   }
  },
  {
   "cell_type": "code",
   "execution_count": 80,
   "outputs": [
    {
     "name": "stdout",
     "output_type": "stream",
     "text": [
      "[0.1595152, 1.6095779, 6.230712, 6.7264137, 8.082814, 8.940534, 13.568923] 12.158284\n"
     ]
    }
   ],
   "source": [
    "print(longest_growth[0].historic_fitness, longest_growth[0].fitness)"
   ],
   "metadata": {
    "collapsed": false,
    "pycharm": {
     "name": "#%%\n"
    }
   }
  },
  {
   "cell_type": "code",
   "execution_count": 79,
   "outputs": [
    {
     "name": "stdout",
     "output_type": "stream",
     "text": [
      "[-3.5601437, 20.661863] 1203.7094\n"
     ]
    }
   ],
   "source": [
    "print(max_plus_sum[0].historic_fitness, max_plus_sum[0].fitness)"
   ],
   "metadata": {
    "collapsed": false,
    "pycharm": {
     "name": "#%%\n"
    }
   }
  }
 ],
 "metadata": {
  "kernelspec": {
   "display_name": "Python 3",
   "language": "python",
   "name": "python3"
  },
  "language_info": {
   "codemirror_mode": {
    "name": "ipython",
    "version": 2
   },
   "file_extension": ".py",
   "mimetype": "text/x-python",
   "name": "python",
   "nbconvert_exporter": "python",
   "pygments_lexer": "ipython2",
   "version": "2.7.6"
  }
 },
 "nbformat": 4,
 "nbformat_minor": 0
}